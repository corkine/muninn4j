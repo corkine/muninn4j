{
 "cells": [
  {
   "cell_type": "markdown",
   "metadata": {},
   "source": [
    "<span type=\"title\">数组</span> | <span type=\"version\">1.0</span>  | <span type=\"update\">2018-07-31</span> \n",
    "\n",
    "<span type=\"intro\"><p class=\"card-text\">本章简要介绍了数组的构建、特殊性、复制、比较、排序和查找。</p></span>"
   ]
  },
  {
   "cell_type": "markdown",
   "metadata": {},
   "source": [
    "# 创建\n",
    "\n",
    "创建分为三种，其一为使用`new`关键字指定数组大小直接创建。其二为静态聚集创建，用花括号创建每个数组对象，这种方式不用谢数组大小。其三为动态聚集创建，即先声明为null，然后在某个地方使用new数组和new`元素的方式创建数组。\n",
    "\n",
    "```java\n",
    "Man[] men = new Man[5]; //直接创建\n",
    "Man[] men2 = {new Man(), new Man(), new Man()}; //静态聚集创建\n",
    "Man[] men3;\n",
    "men3 = new Man[]{new Man(), new Man(), new Man()}; //动态聚集创建\n",
    "```"
   ]
  }
 ],
 "metadata": {
  "kernelspec": {
   "display_name": "Python 3",
   "language": "python",
   "name": "python3"
  },
  "language_info": {
   "codemirror_mode": {
    "name": "ipython",
    "version": 3
   },
   "file_extension": ".py",
   "mimetype": "text/x-python",
   "name": "python",
   "nbconvert_exporter": "python",
   "pygments_lexer": "ipython3",
   "version": "3.5.2"
  }
 },
 "nbformat": 4,
 "nbformat_minor": 2
}
