{
 "cells": [
  {
   "cell_type": "markdown",
   "metadata": {},
   "source": [
    "<span type=\"title\">Design Pattern in Java EE</span> | <span type=\"update\">2018-09-26</span> - Version <span type=\"version\">1.0</span>\n",
    "    \n",
    "    \n",
    "<span type=\"intro\"><p class=\"card-text\">本章的前半部分主要介绍 Java EE 对于 Servlet 和 JSP 的使用带来的一个设计模式：通过 JNDI 以及 RMI 来分离View 层 和 业务层。在本章的后半部分，介绍了一个超级的 Servlet，这个Servlet被设计用来简化传统 Servlet 责任过于分散，代码重复的问题，这就是 Struts 的核心 - 通过一个 Servlet 进行表单验证，动作分配，而不是对于不同的URL进行不同的 Servlet 处理，然后使用不同的 JSP 进行视图的绘制。</p></span>"
   ]
  },
  {
   "cell_type": "markdown",
   "metadata": {},
   "source": [
    "# Java EE 设计模式\n",
    "\n",
    "![](designpattern.png)\n",
    "\n",
    "如上所示，控制器并不去本地寻找模型，而是让业务委托到服务定位器寻找远程的模型 JNDI，然后让桩使用 RMI 获取模型类。然后业务委托返回桩，用于视图的展示（在这部分使用El表达式、标准动作、定制标签）。\n",
    "\n",
    "这样的方法可以将服务分配到不同的服务器，各自耦合程度很低，方便进行开发和扩展。"
   ]
  },
  {
   "cell_type": "markdown",
   "metadata": {},
   "source": [
    "# Strtus 设计模式\n",
    "\n",
    "![](designpattern2.png)\n",
    "\n",
    "这个设计模式主要用来简化传统的 Servlet 作为控制器而造成的多个 Servlet 不能重用代码的问题。现在在 web.xml 中声明一个超级 Servlet，然后由这个 Servlet 进行表单验证、业务分配和视图响应。\n",
    "\n",
    "这被应用到 Struts 框架上，可以和 Java EE 的 JNDI 和 RMI 共同使用。"
   ]
  }
 ],
 "metadata": {
  "kernelspec": {
   "display_name": "Python 3",
   "language": "python",
   "name": "python3"
  },
  "language_info": {
   "codemirror_mode": {
    "name": "ipython",
    "version": 3
   },
   "file_extension": ".py",
   "mimetype": "text/x-python",
   "name": "python",
   "nbconvert_exporter": "python",
   "pygments_lexer": "ipython3",
   "version": "3.5.2"
  }
 },
 "nbformat": 4,
 "nbformat_minor": 2
}
