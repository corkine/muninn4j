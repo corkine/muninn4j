{
 "cells": [
  {
   "cell_type": "markdown",
   "metadata": {},
   "source": [
    "自动化部署工具\n",
    "\n",
    "1. 清理 清理原有的 classes 类目录\n",
    "2. 编译 调用 JVM 编译 .java 程序\n",
    "3. 测试 自动调用 JUnit 进行测试\n",
    "4. 报告 报告编译和测试结果\n",
    "5. 打包 将编译后的结果打成 war 或者 jar 包\n",
    "6. 安装 Maven 特定概念，将程序依赖部署到合适的位置\n",
    "7. 部署 提交容器进行部署\n",
    "\n",
    "Maven 工程\n",
    "\n",
    "1. 根目录 工程名\n",
    "2. pom.xml 核心配置文件\n",
    "3. src/ class 源码\n",
    "4. main/ 主程序\n",
    "    - java/ Java 源文件\n",
    "    - resources/ 各种配置文件\n",
    "5. test/ 测试程序"
   ]
  }
 ],
 "metadata": {
  "kernelspec": {
   "display_name": "Python 3",
   "language": "python",
   "name": "python3"
  },
  "language_info": {
   "codemirror_mode": {
    "name": "ipython",
    "version": 3
   },
   "file_extension": ".py",
   "mimetype": "text/x-python",
   "name": "python",
   "nbconvert_exporter": "python",
   "pygments_lexer": "ipython3",
   "version": "3.5.2"
  }
 },
 "nbformat": 4,
 "nbformat_minor": 2
}
